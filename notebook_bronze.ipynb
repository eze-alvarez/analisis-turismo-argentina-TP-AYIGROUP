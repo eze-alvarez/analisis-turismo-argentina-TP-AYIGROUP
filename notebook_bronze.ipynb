{
 "cells": [
  {
   "cell_type": "markdown",
   "id": "65642d9f",
   "metadata": {},
   "source": [
    "# Cuaderno de la Capa Bronce 🥉\n",
    "\n",
    "Este cuaderno muestra la carga inicial de los datasets de vuelos y feriados largos. Los datos se encuentran en su estado original, sin ningún tipo de limpieza o transformación."
   ]
  },
  {
   "cell_type": "markdown",
   "id": "bb06a3fc",
   "metadata": {},
   "source": [
    "## 1. Carga del Dataset de Vuelos (CSV)\n",
    "\n",
    "Se carga el archivo `base_microdatos.csv` y se muestran las primeras filas para verificar el formato y las columnas originales."
   ]
  },
  {
   "cell_type": "code",
   "execution_count": null,
   "id": "b0b69364",
   "metadata": {},
   "outputs": [
    {
     "name": "stdout",
     "output_type": "stream",
     "text": [
      "Primeras 5 filas del dataset de vuelos:\n",
      "  indice_tiempo clasificacion_vuelo clase_vuelo              aerolinea  \\\n",
      "0    2017-01-01            Cabotaje  No Regular    Andes Líneas Aéreas   \n",
      "1    2017-01-01            Cabotaje  No Regular    Andes Líneas Aéreas   \n",
      "2    2017-01-01            Cabotaje  No Regular    Andes Líneas Aéreas   \n",
      "3    2017-01-01            Cabotaje     Regular  Aerolíneas Argentinas   \n",
      "4    2017-01-01            Cabotaje     Regular  Aerolíneas Argentinas   \n",
      "\n",
      "  origen_oaci                          origen_aeropuerto  \\\n",
      "0        SAAV                  Aeropuerto de Sauce Viejo   \n",
      "1        SASA    Aeropuerto Int. Martín Miguel de Güemes   \n",
      "2        SAZS       Aeropuerto Int. Tte. Luis Candelaria   \n",
      "3        SAAR  Aeropuerto Int. de Rosario Islas Malvinas   \n",
      "4        SAAR  Aeropuerto Int. de Rosario Islas Malvinas   \n",
      "\n",
      "          origen_localidad origen_provincia origen_pais origen_continente  \\\n",
      "0                 Santa Fe         Santa Fe   Argentina   América del Sur   \n",
      "1                    Salta            Salta   Argentina   América del Sur   \n",
      "2  San Carlos de Bariloche        Río Negro   Argentina   América del Sur   \n",
      "3                  Rosario         Santa Fe   Argentina   América del Sur   \n",
      "4                  Rosario         Santa Fe   Argentina   América del Sur   \n",
      "\n",
      "  destino_oaci                            destino_aeropuerto  \\\n",
      "0         SAZS          Aeropuerto Int. Tte. Luis Candelaria   \n",
      "1         SASJ          Aeropuerto Int. Gdor. Horacio Guzmán   \n",
      "2         SAAV                     Aeropuerto de Sauce Viejo   \n",
      "3         SACO  Aeropuerto Int. Ingeniero Ambrosio Taravella   \n",
      "4         SAEZ            Aeropuerto Int. Ministro Pistarini   \n",
      "\n",
      "         destino_localidad destino_provincia destino_pais destino_continente  \\\n",
      "0  San Carlos de Bariloche         Río Negro    Argentina    América del Sur   \n",
      "1    San Salvador de Jujuy             Jujuy    Argentina    América del Sur   \n",
      "2                 Santa Fe          Santa Fe    Argentina    América del Sur   \n",
      "3                  Córdoba           Córdoba    Argentina    América del Sur   \n",
      "4                   Ezeiza      Buenos Aires    Argentina    América del Sur   \n",
      "\n",
      "   pasajeros  asientos  vuelos  \n",
      "0         85        85       1  \n",
      "1         23        83       1  \n",
      "2         78        83       1  \n",
      "3         48       128       1  \n",
      "4         90       128       1  \n"
     ]
    }
   ],
   "source": [
    "import pandas as pd\n",
    "import os\n",
    "path_bronce = 'data/bronze/20250825'\n",
    "nombre_archivo_vuelos = 'base_microdatos.csv'\n",
    "\n",
    "ruta_vuelos = os.path.join(path_bronce, nombre_archivo_vuelos)\n",
    "df_vuelos_bronce = pd.read_csv(ruta_vuelos)\n",
    "print(\"Primeras 5 filas del dataset de vuelos:\")\n",
    "print(df_vuelos_bronce.head())\n"
   ]
  },
  {
   "cell_type": "code",
   "execution_count": 5,
   "id": "d42843e7",
   "metadata": {},
   "outputs": [
    {
     "name": "stdout",
     "output_type": "stream",
     "text": [
      "<class 'pandas.core.frame.DataFrame'>\n",
      "RangeIndex: 929489 entries, 0 to 929488\n",
      "Data columns (total 19 columns):\n",
      " #   Column               Non-Null Count   Dtype \n",
      "---  ------               --------------   ----- \n",
      " 0   indice_tiempo        929489 non-null  object\n",
      " 1   clasificacion_vuelo  929489 non-null  object\n",
      " 2   clase_vuelo          929489 non-null  object\n",
      " 3   aerolinea            929489 non-null  object\n",
      " 4   origen_oaci          929489 non-null  object\n",
      " 5   origen_aeropuerto    929489 non-null  object\n",
      " 6   origen_localidad     929489 non-null  object\n",
      " 7   origen_provincia     733297 non-null  object\n",
      " 8   origen_pais          929489 non-null  object\n",
      " 9   origen_continente    929488 non-null  object\n",
      " 10  destino_oaci         929489 non-null  object\n",
      " 11  destino_aeropuerto   929489 non-null  object\n",
      " 12  destino_localidad    929489 non-null  object\n",
      " 13  destino_provincia    731862 non-null  object\n",
      " 14  destino_pais         929489 non-null  object\n",
      " 15  destino_continente   929489 non-null  object\n",
      " 16  pasajeros            929489 non-null  int64 \n",
      " 17  asientos             929489 non-null  int64 \n",
      " 18  vuelos               929489 non-null  int64 \n",
      "dtypes: int64(3), object(16)\n",
      "memory usage: 134.7+ MB\n",
      "Información del DataFrame de vuelos:\n",
      "None\n"
     ]
    }
   ],
   "source": [
    "print(f'Información del DataFrame de vuelos:\\n{df_vuelos_bronce.info()}')"
   ]
  },
  {
   "cell_type": "code",
   "execution_count": 6,
   "id": "b63e6b49",
   "metadata": {},
   "outputs": [
    {
     "name": "stdout",
     "output_type": "stream",
     "text": [
      "Columnas del DataFrame de vuelos:\n",
      "Index(['indice_tiempo', 'clasificacion_vuelo', 'clase_vuelo', 'aerolinea',\n",
      "       'origen_oaci', 'origen_aeropuerto', 'origen_localidad',\n",
      "       'origen_provincia', 'origen_pais', 'origen_continente', 'destino_oaci',\n",
      "       'destino_aeropuerto', 'destino_localidad', 'destino_provincia',\n",
      "       'destino_pais', 'destino_continente', 'pasajeros', 'asientos',\n",
      "       'vuelos'],\n",
      "      dtype='object')\n"
     ]
    }
   ],
   "source": [
    "print(f'Columnas del DataFrame de vuelos:\\n{df_vuelos_bronce.columns}')"
   ]
  },
  {
   "cell_type": "markdown",
   "id": "88c61173",
   "metadata": {},
   "source": [
    "## 2. Carga del Dataset de Feriados (Excel)\n",
    "\n",
    "Se carga el archivo `FeriadosLargos.xlsx` para confirmar que los datos se pueden leer correctamente y se muestran las primeras filas para verificar el formato y las columnas originales."
   ]
  },
  {
   "cell_type": "code",
   "execution_count": 9,
   "id": "8855d87b",
   "metadata": {},
   "outputs": [
    {
     "name": "stdout",
     "output_type": "stream",
     "text": [
      "Primeras 5 filas del dataset de feriados:\n",
      "  indice_tiempo\n",
      "0    2024-01-01\n",
      "1    2024-02-10\n",
      "2    2024-02-11\n",
      "3    2024-02-12\n",
      "4    2024-02-13\n"
     ]
    }
   ],
   "source": [
    "path_bronce = 'data/bronze/20250825'\n",
    "nombre_archivo_feriados_largos = 'FeriadosLargos.xlsx'\n",
    "\n",
    "ruta_feriados = os.path.join(path_bronce, nombre_archivo_feriados_largos)\n",
    "df_feriados_bronce = pd.read_excel(ruta_feriados)\n",
    "print(\"Primeras 5 filas del dataset de feriados:\")\n",
    "print(df_feriados_bronce.head())"
   ]
  },
  {
   "cell_type": "code",
   "execution_count": 10,
   "id": "07fd0fb4",
   "metadata": {},
   "outputs": [
    {
     "name": "stdout",
     "output_type": "stream",
     "text": [
      "<class 'pandas.core.frame.DataFrame'>\n",
      "RangeIndex: 23 entries, 0 to 22\n",
      "Data columns (total 1 columns):\n",
      " #   Column         Non-Null Count  Dtype         \n",
      "---  ------         --------------  -----         \n",
      " 0   indice_tiempo  23 non-null     datetime64[ns]\n",
      "dtypes: datetime64[ns](1)\n",
      "memory usage: 316.0 bytes\n",
      "Información del DataFrame de vuelos:\n",
      "None\n"
     ]
    }
   ],
   "source": [
    "print(f'Información del DataFrame de vuelos:\\n{df_feriados_bronce.info()}')"
   ]
  },
  {
   "cell_type": "markdown",
   "id": "0dddbfea",
   "metadata": {},
   "source": [
    "## Conclusiones de la Capa Bronce\n",
    "\n",
    "### Resumen del Dataset de Vuelos\n",
    "\n",
    "-   El dataset de vuelos contiene **929489 filas y 19 columnas**.\n",
    "-   Las columnas principales para el análisis son `indice_tiempo`, `destino_provincia`, `pasajeros`, `asientos`, y `vuelos`.\n",
    "-   La columna `indice_tiempo` está en formato `object` (texto) y deberá ser convertida a tipo `datetime` en la capa Plata.\n",
    "-   Las columnas `pasajeros` y `asientos` tienen valores nulos que necesitarán ser manejados para evitar errores en los cálculos.\n",
    "\n",
    "### Resumen del Dataset de Feriados\n",
    "\n",
    "-   El dataset de feriados tiene **23 filas y 1 columna**.\n",
    "-   Contiene la columna `indice_tiempo` que también deberá ser convertida a tipo `datetime` para poder unirla con el dataset de vuelos.\n",
    "\n",
    "---\n",
    "\n",
    "**Siguiente paso:** Pasar a la capa Plata para realizar la limpieza de datos y la unificación de ambos datasets."
   ]
  }
 ],
 "metadata": {
  "kernelspec": {
   "display_name": "proyecto-AYI",
   "language": "python",
   "name": "python3"
  },
  "language_info": {
   "codemirror_mode": {
    "name": "ipython",
    "version": 3
   },
   "file_extension": ".py",
   "mimetype": "text/x-python",
   "name": "python",
   "nbconvert_exporter": "python",
   "pygments_lexer": "ipython3",
   "version": "3.13.2"
  }
 },
 "nbformat": 4,
 "nbformat_minor": 5
}
